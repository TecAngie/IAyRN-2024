{
  "nbformat": 4,
  "nbformat_minor": 0,
  "metadata": {
    "colab": {
      "provenance": []
    },
    "kernelspec": {
      "name": "python3",
      "display_name": "Python 3"
    },
    "language_info": {
      "name": "python"
    }
  },
  "cells": [
    {
      "cell_type": "code",
      "source": [
        "\"\"\"\n",
        "Nombre: Angie Sofia Hernández Tristán.\n",
        "Clase: Inteligencia Artificial, LMV, N1.\n",
        "Título: Diseño de algoritmos en Python\n",
        "\"\"\"\n",
        "name = input(\"¿Cuál es su nombre? \")\n",
        "#name.lower () hace que el que haya mayus o min en los nombres no afecte en el funcionamiento del código\n",
        "if name.lower() not in [\"ana\", \"juan\",\"pedro\"]:\n",
        "  print(\"¡Hola\", name + \"!\")\n"
      ],
      "metadata": {
        "colab": {
          "base_uri": "https://localhost:8080/"
        },
        "id": "_OIPxE2PiU9H",
        "outputId": "13d38795-8988-4ea1-befe-fa2e7553ce71"
      },
      "execution_count": null,
      "outputs": [
        {
          "output_type": "stream",
          "name": "stdout",
          "text": [
            "¿Cuál es su nombre? Sofia\n",
            "¡Hola Sofia!\n"
          ]
        }
      ]
    },
    {
      "cell_type": "code",
      "source": [
        "def inv_lista():\n",
        "    # Numero de elementos de las lista\n",
        "    n = int(input(\"¿Cuántos productos necesita? \"))\n",
        "\n",
        "    # Lista vacía para almacenar los elementos\n",
        "    lista = []\n",
        "\n",
        "    # Elementos de la lista\n",
        "    for p in range(n):\n",
        "      # El format(l+1) sirve para que el usuario ingrese los elementos de manera individual\n",
        "      #.append sirve para almacenar los elementos de la lista en el mismo orden\n",
        "        elemento = input(\"Ingrese el producto {}: \".format(p+1))\n",
        "        lista.append(elemento)\n",
        "\n",
        "    # Invertir la lista\n",
        "    lista_invertida = lista[::-1]\n",
        "    print(\"La lista invertida es:\", lista_invertida)\n",
        "\n",
        "inv_lista()"
      ],
      "metadata": {
        "colab": {
          "base_uri": "https://localhost:8080/"
        },
        "id": "W30G2_zIplUK",
        "outputId": "6ebe5dd1-b34d-4529-c9ca-1bc0ca42b0f1"
      },
      "execution_count": null,
      "outputs": [
        {
          "output_type": "stream",
          "name": "stdout",
          "text": [
            "¿Cuántos productos necesita? 5\n",
            "Ingrese el producto 1: Aguacate\n",
            "Ingrese el producto 2: Jabon\n",
            "Ingrese el producto 3: Estufa\n",
            "Ingrese el producto 4: Lampara\n",
            "Ingrese el producto 5: Queso\n",
            "La lista invertida es: ['Queso', 'Lampara', 'Estufa', 'Jabon', 'Aguacate']\n"
          ]
        }
      ]
    },
    {
      "cell_type": "code",
      "source": [
        "def fibonacci(n):\n",
        "  fib =[0,1] #Primeros numeros de Fibonacci\n",
        "  for a in range(2,n):\n",
        "    fib.append(fib[a-1]+fib[a-2]) #Segundo numero de Fibonacci\n",
        "  return fib\n",
        "def main():\n",
        "  n = int(input(\"Ingresa la cantidad de números de Fibonacci que desees: \"))\n",
        "  if n <=0:\n",
        "    print(\"Error, ingrese un numero mayor a 0. \")\n",
        "    return\n",
        "  fib_serie = fibonacci(n)\n",
        "  print(\"Los\", n, \"números de Fibonacci requeridos son: \")\n",
        "  print(fib_serie)\n",
        "main()"
      ],
      "metadata": {
        "colab": {
          "base_uri": "https://localhost:8080/"
        },
        "id": "9RQayO2ZsXZH",
        "outputId": "52f1cbce-1b78-4c00-9282-0347f641d2ef"
      },
      "execution_count": null,
      "outputs": [
        {
          "output_type": "stream",
          "name": "stdout",
          "text": [
            "Ingresa la cantidad de números de Fibonacci que desees: 12\n",
            "Los 12 números de Fibonacci requeridos son: \n",
            "[0, 1, 1, 2, 3, 5, 8, 13, 21, 34, 55, 89]\n"
          ]
        }
      ]
    },
    {
      "cell_type": "code",
      "source": [
        "import random\n",
        "def juego_adivinar():\n",
        "  rango_n = random.randint(1,100) #Numero aleatorio del 1-100\n",
        "\n",
        "  print(\"¡Bienvenido al juego, te deseo suerte! \")\n",
        "  intentos = 0\n",
        "  ganar = [ #distintas maneras de felicitar\n",
        "      \"¡Increible solo te tomo {} intentos!\".format(intentos),\n",
        "      \"¡Correcto, pareces adivino!\",\n",
        "      \"¡Felicidades haz ganado la satisfaccion de acertar en solo {} intentos!\"\n",
        "  ]\n",
        "\n",
        "  while True:\n",
        "    intento = int(input(\"Adivina un número del 1 al 100: \"))\n",
        "    intentos += 1\n",
        "\n",
        "    if intento == rango_n:\n",
        "      gana = random.choice(ganar)\n",
        "      print(gana.format(intentos))\n",
        "      break\n",
        "    elif intento < rango_n:\n",
        "      print(\"Incorrecto, el número es mayor que\", intento)\n",
        "    else:\n",
        "      print(\"Incorrecto, el número es menor que\", intento)\n",
        "juego_adivinar()"
      ],
      "metadata": {
        "colab": {
          "base_uri": "https://localhost:8080/"
        },
        "id": "-0Ev8-zfYYQm",
        "outputId": "d488f316-6fbe-4641-b83a-76b5663754ba"
      },
      "execution_count": 26,
      "outputs": [
        {
          "output_type": "stream",
          "name": "stdout",
          "text": [
            "¡Bienvenido al juego, te deseo suerte! \n",
            "Adivina un número del 1 al 100: 50\n",
            "Incorrecto, el número es menor que 50\n",
            "Adivina un número del 1 al 100: 20\n",
            "Incorrecto, el número es menor que 20\n",
            "Adivina un número del 1 al 100: 10\n",
            "Incorrecto, el número es mayor que 10\n",
            "Adivina un número del 1 al 100: 15\n",
            "Incorrecto, el número es menor que 15\n",
            "Adivina un número del 1 al 100: 12\n",
            "Incorrecto, el número es menor que 12\n",
            "Adivina un número del 1 al 100: 11\n",
            "¡Correcto, pareces adivino!\n"
          ]
        }
      ]
    },
    {
      "cell_type": "code",
      "source": [
        "def primos(num):\n",
        "  if num < 2:\n",
        "       return False\n",
        "  for s in range(2, int(num ** 0.5) + 1):\n",
        "       if num % s == 0:\n",
        "          return False\n",
        "  return True\n",
        "\n",
        "def rang_prim(inicio,fin):\n",
        "  n_primos = []\n",
        "  for num in range(inicio, fin + 1):\n",
        "      if primos(num):\n",
        "          n_primos.append(num)\n",
        "  return n_primos\n",
        "\n",
        "def main():\n",
        "  inicio = int(input(\"¿Cuál es el inicio del rango?: \"))\n",
        "  fin = int(input(\"¿Cuál es el final del rango?: \"))\n",
        "  print(\"Los números primos en el rango propuesto de {} a {} son:\".format(inicio, fin))\n",
        "  n_primos = rang_prim(inicio, fin)\n",
        "  if n_primos:\n",
        "    print(n_primos)\n",
        "  else:\n",
        "    print(\"En el rango proporcionado no existen números primos, intente con otro rango.\")\n",
        "\n",
        "main()\n"
      ],
      "metadata": {
        "id": "KBzYHhRseecV",
        "colab": {
          "base_uri": "https://localhost:8080/"
        },
        "outputId": "4c93901b-2688-44fe-a740-a7b4431c1bed"
      },
      "execution_count": 27,
      "outputs": [
        {
          "output_type": "stream",
          "name": "stdout",
          "text": [
            "¿Cuál es el inicio del rango?: 0\n",
            "¿Cuál es el final del rango?: 20\n",
            "Los números primos en el rango propuesto de 0 a 20 son:\n",
            "[2, 3, 5, 7, 11, 13, 17, 19]\n"
          ]
        }
      ]
    },
    {
      "cell_type": "code",
      "source": [
        "def suma(a, b):\n",
        "    return a + b\n",
        "def resta(a, b):\n",
        "    return a - b\n",
        "def mult(a,b):\n",
        "    return a * b\n",
        "def div(a,b):\n",
        "    if b == 0:\n",
        "        return \"Error. \"\n",
        "    return a / b\n",
        "\n",
        "def main():\n",
        "    n1 = float(input(\"Ingrese el primer número: \"))\n",
        "    n2 = float(input(\"Ingrese el segundo número: \"))\n",
        "\n",
        "    print(\"\\nOperaciones disponibles: \")\n",
        "    print(\"1. Suma\")\n",
        "    print(\"2. Resta\")\n",
        "    print(\"3. Multiplicación\")\n",
        "    print(\"4. División\")\n",
        "\n",
        "    opcion = input(\"Seleccione la operación a realizar (1/2/3/4): \")\n",
        "\n",
        "    if opcion == '1':\n",
        "        resultado = suma(n1, n2)\n",
        "        print(\"La suma de\", n1, \"y\", n2, \"es:\", resultado)\n",
        "    elif opcion == '2':\n",
        "        resultado = resta(n1, n2)\n",
        "        print(\"La resta de\", n1, \"y\", n2, \"es:\", resultado)\n",
        "    elif opcion == '3':\n",
        "        resultado = mult(n1, n2)\n",
        "        print(\"La multiplicación de\", n1, \"y\", n2, \"es:\", resultado)\n",
        "    elif opcion == '4':\n",
        "        resultado = div(n1, n2)\n",
        "        print(\"La división de\", n1, \"entre\", n2, \"es:\", resultado)\n",
        "    else:\n",
        "        print(\"Esa opción no existe. Por favor, seleccione una opción válida.\")\n",
        "\n",
        "main()"
      ],
      "metadata": {
        "colab": {
          "base_uri": "https://localhost:8080/"
        },
        "id": "M4D8IOKYkarK",
        "outputId": "7fdeb8dd-9363-4af4-e29e-614df0b9e31e"
      },
      "execution_count": 32,
      "outputs": [
        {
          "output_type": "stream",
          "name": "stdout",
          "text": [
            "Ingrese el primer número: 56632541.254687\n",
            "Ingrese el segundo número: 513697752366666.4521588\n",
            "\n",
            "Operaciones disponibles: \n",
            "1. Suma\n",
            "2. Resta\n",
            "3. Multiplicación\n",
            "4. División\n",
            "Seleccione la operación a realizar (1/2/3/4): 4\n",
            "La división de 56632541.254687 entre 513697752366666.44 es: 1.1024486868742206e-07\n"
          ]
        }
      ]
    }
  ]
}